{
 "cells": [
  {
   "cell_type": "code",
   "execution_count": 6,
   "source": [
    "from matplotlib import pyplot as plt\r\n",
    "import numpy\r\n",
    "\r\n",
    "\r\n",
    "class operator:\r\n",
    "    def __init__(self) -> None:\r\n",
    "        self.ATK=None\r\n",
    "        self.ATK_speed=None\r\n",
    "    def skill(self,ATK_rate,):#技能强化\r\n",
    "        self.ATK*=ATK_rate\r\n",
    "        self.ATK_speed\r\n"
   ],
   "outputs": [],
   "metadata": {}
  },
  {
   "cell_type": "code",
   "execution_count": null,
   "source": [
    "def ATK_speed_to_ATK_gap(ATK_speed_up,ATK_gap_down):\r\n",
    "    ATK_gap=(100+ATK_speed_up)/(ATK_gap-ATK_gap_down)\r\n",
    "    return ATK_gap"
   ],
   "outputs": [],
   "metadata": {}
  },
  {
   "cell_type": "code",
   "execution_count": 7,
   "source": [
    "Passenger=operator()#实例化干员异客"
   ],
   "outputs": [],
   "metadata": {}
  },
  {
   "cell_type": "code",
   "execution_count": 10,
   "source": [
    "Passenger.ATK=571+85\r\n",
    "Passenger.ATK"
   ],
   "outputs": [
    {
     "output_type": "execute_result",
     "data": {
      "text/plain": [
       "656"
      ]
     },
     "metadata": {},
     "execution_count": 10
    }
   ],
   "metadata": {}
  },
  {
   "cell_type": "code",
   "execution_count": null,
   "source": [],
   "outputs": [],
   "metadata": {}
  }
 ],
 "metadata": {
  "orig_nbformat": 4,
  "language_info": {
   "name": "python",
   "version": "3.9.5",
   "mimetype": "text/x-python",
   "codemirror_mode": {
    "name": "ipython",
    "version": 3
   },
   "pygments_lexer": "ipython3",
   "nbconvert_exporter": "python",
   "file_extension": ".py"
  },
  "kernelspec": {
   "name": "python3",
   "display_name": "Python 3.9.5 64-bit"
  },
  "interpreter": {
   "hash": "4dd9592285cefc1afd3b616b9588d0b0820138ed4e8f33048cffc875079ebdd5"
  }
 },
 "nbformat": 4,
 "nbformat_minor": 2
}