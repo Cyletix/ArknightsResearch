{
 "cells": [
  {
   "cell_type": "code",
   "execution_count": 229,
   "source": [
    "import pandas as pd\r\n",
    "import numpy as np\r\n",
    "excel_path=r\"C:\\Users\\ASUS\\OneDrive\\文档\\明日方舟.xlsx\""
   ],
   "outputs": [],
   "metadata": {}
  },
  {
   "cell_type": "code",
   "execution_count": 230,
   "source": [
    "name_list=pd.read_excel(excel_path,sheet_name='干员信息')['干员']"
   ],
   "outputs": [],
   "metadata": {}
  },
  {
   "cell_type": "code",
   "execution_count": 231,
   "source": [
    "import requests\r\n",
    "wiki_url='http://prts.wiki/w/'\r\n",
    "operator_url=''"
   ],
   "outputs": [],
   "metadata": {}
  },
  {
   "cell_type": "code",
   "execution_count": 232,
   "source": [
    "def findSubStr(substr, str, i):#查找子字符串第i次出现的位置\r\n",
    "    count = 0\r\n",
    "    while i > 0:\r\n",
    "        index = str.find(substr)\r\n",
    "        if index == -1:\r\n",
    "            return -1\r\n",
    "        else:\r\n",
    "            str = str[index+1:]   #第一次出现的位置截止后的字符串\r\n",
    "            i -= 1\r\n",
    "            count = count + index + 1   #字符串位置数累加\r\n",
    "    return count - 1"
   ],
   "outputs": [],
   "metadata": {}
  },
  {
   "cell_type": "code",
   "execution_count": 233,
   "source": [
    "df=pd.DataFrame(columns = ['代号','生命上限', '攻击','防御','法术抗性','阻挡数','再部署时间','初始部署费用','攻击间隔','技能一初始','技能一消耗','技能一持续','技能二初始','技能二消耗','技能二持续'])"
   ],
   "outputs": [],
   "metadata": {}
  },
  {
   "cell_type": "code",
   "execution_count": 234,
   "source": [
    "name='陈'# for name in name_list:\r\n",
    "df['代号']=name\r\n",
    "Attribute_list=['阻挡数','攻击间隔','生命上限','攻击','防御','法术抗性']\r\n",
    "attribute_list=[]\r\n",
    "for Attribute in Attribute_list:\r\n",
    "    Attribute_str='<th>{}\\n</th>'.format(Attribute)\r\n",
    "    operator_url=wiki_url+name\r\n",
    "    r = requests.get(operator_url)\r\n",
    "    #大标题定位\r\n",
    "    r_pos=r.text[r.text.find(Attribute_str):]\r\n",
    "    #属性值\r\n",
    "    attribute=int(r_pos[findSubStr('<td>',r_pos,3)+len('<td>'):].split('\\n')[0])\r\n",
    "    #对应信赖加成\r\n",
    "    attribute_reliance=r_pos[findSubStr('<td>',r_pos,5)+len('<td>'):].split('\\n')[0]\r\n",
    "    if attribute_reliance=='':\r\n",
    "        attribute_reliance=0\r\n",
    "    else:\r\n",
    "        attribute_reliance=int(attribute_reliance)\r\n",
    "    attribute+=attribute_reliance\r\n",
    "    attribute_list.append(attribute)\r\n",
    "    #返回结果\r\n",
    "    attribute,attribute_reliance\r\n",
    "\r\n",
    "\r\n",
    "df=df.append(dict(zip(Attribute_list,attribute_list)), ignore_index=True)\r\n",
    "\r\n"
   ],
   "outputs": [],
   "metadata": {}
  },
  {
   "cell_type": "code",
   "execution_count": 235,
   "source": [
    "skill1='<p><b>技能1（精英0开放）</b>'\r\n",
    "r_pos=r.text[r.text.find(skill1):]\r\n",
    "temp=[]\r\n",
    "temp.append(r_pos[findSubStr('<td>',r_pos,26)+len('<td>'):].split('\\n')[0])#初始\r\n",
    "temp.append(r_pos[findSubStr('<td>',r_pos,27)+len('<td>'):].split('\\n')[0])#消耗\r\n",
    "temp.append(r_pos[findSubStr('<td>',r_pos,28)+len('<td>'):].split('\\n')[0])#持续\r\n",
    "for x in temp:\r\n",
    "    if x=='':\r\n",
    "        temp[temp.index(x)]=0\r\n",
    "df['技能一初始']=temp[0]\r\n",
    "df['技能一消耗']=temp[1]\r\n",
    "df['技能一持续']=temp[2]"
   ],
   "outputs": [],
   "metadata": {}
  },
  {
   "cell_type": "code",
   "execution_count": 236,
   "source": [
    "skill2='<p><b>技能2（精英1开放）</b>'\r\n",
    "r_pos=r.text[r.text.find(skill2):]\r\n",
    "temp=[]\r\n",
    "temp.append(r_pos[findSubStr('<td>',r_pos,26)+len('<td>'):].split('\\n')[0])#初始\r\n",
    "temp.append(r_pos[findSubStr('<td>',r_pos,27)+len('<td>'):].split('\\n')[0])#消耗\r\n",
    "temp.append(r_pos[findSubStr('<td>',r_pos,28)+len('<td>'):].split('\\n')[0])#持续\r\n",
    "for x in temp:\r\n",
    "    if x=='':\r\n",
    "        temp[temp.index(x)]=0\r\n",
    "df['技能二初始']=temp[0]\r\n",
    "df['技能二消耗']=temp[1]\r\n",
    "df['技能二持续']=temp[2]"
   ],
   "outputs": [],
   "metadata": {}
  },
  {
   "cell_type": "code",
   "execution_count": 237,
   "source": [
    "df"
   ],
   "outputs": [
    {
     "output_type": "execute_result",
     "data": {
      "text/html": [
       "<div>\n",
       "<style scoped>\n",
       "    .dataframe tbody tr th:only-of-type {\n",
       "        vertical-align: middle;\n",
       "    }\n",
       "\n",
       "    .dataframe tbody tr th {\n",
       "        vertical-align: top;\n",
       "    }\n",
       "\n",
       "    .dataframe thead th {\n",
       "        text-align: right;\n",
       "    }\n",
       "</style>\n",
       "<table border=\"1\" class=\"dataframe\">\n",
       "  <thead>\n",
       "    <tr style=\"text-align: right;\">\n",
       "      <th></th>\n",
       "      <th>代号</th>\n",
       "      <th>生命上限</th>\n",
       "      <th>攻击</th>\n",
       "      <th>防御</th>\n",
       "      <th>法术抗性</th>\n",
       "      <th>阻挡数</th>\n",
       "      <th>再部署时间</th>\n",
       "      <th>初始部署费用</th>\n",
       "      <th>攻击间隔</th>\n",
       "      <th>技能一初始</th>\n",
       "      <th>技能一消耗</th>\n",
       "      <th>技能一持续</th>\n",
       "      <th>技能二初始</th>\n",
       "      <th>技能二消耗</th>\n",
       "      <th>技能二持续</th>\n",
       "    </tr>\n",
       "  </thead>\n",
       "  <tbody>\n",
       "    <tr>\n",
       "      <th>0</th>\n",
       "      <td>NaN</td>\n",
       "      <td>2188.0</td>\n",
       "      <td>519.0</td>\n",
       "      <td>338.0</td>\n",
       "      <td>0.0</td>\n",
       "      <td>3417.0</td>\n",
       "      <td>NaN</td>\n",
       "      <td>NaN</td>\n",
       "      <td>4564.0</td>\n",
       "      <td>0</td>\n",
       "      <td>5</td>\n",
       "      <td>0</td>\n",
       "      <td>14</td>\n",
       "      <td>25</td>\n",
       "      <td>0</td>\n",
       "    </tr>\n",
       "  </tbody>\n",
       "</table>\n",
       "</div>"
      ],
      "text/plain": [
       "   代号    生命上限     攻击     防御  法术抗性     阻挡数  再部署时间  初始部署费用    攻击间隔 技能一初始 技能一消耗  \\\n",
       "0 NaN  2188.0  519.0  338.0   0.0  3417.0    NaN     NaN  4564.0     0     5   \n",
       "\n",
       "   技能一持续 技能二初始 技能二消耗  技能二持续  \n",
       "0      0    14    25      0  "
      ]
     },
     "metadata": {},
     "execution_count": 237
    }
   ],
   "metadata": {}
  },
  {
   "cell_type": "code",
   "execution_count": 238,
   "source": [
    "string='<td width=\"33.4%\">'\r\n",
    "r_pos=r.text[r.text.find(string):]\r\n",
    "df['再部署时间']=r_pos[findSubStr('>',r_pos,1)+len('>'):].split('s')[0]\r\n",
    "df['初始部署费用']=r_pos[findSubStr('>',r_pos,5)+len('>'):].split('→')[1]"
   ],
   "outputs": [],
   "metadata": {}
  },
  {
   "cell_type": "code",
   "execution_count": 239,
   "source": [
    "df"
   ],
   "outputs": [
    {
     "output_type": "execute_result",
     "data": {
      "text/html": [
       "<div>\n",
       "<style scoped>\n",
       "    .dataframe tbody tr th:only-of-type {\n",
       "        vertical-align: middle;\n",
       "    }\n",
       "\n",
       "    .dataframe tbody tr th {\n",
       "        vertical-align: top;\n",
       "    }\n",
       "\n",
       "    .dataframe thead th {\n",
       "        text-align: right;\n",
       "    }\n",
       "</style>\n",
       "<table border=\"1\" class=\"dataframe\">\n",
       "  <thead>\n",
       "    <tr style=\"text-align: right;\">\n",
       "      <th></th>\n",
       "      <th>代号</th>\n",
       "      <th>生命上限</th>\n",
       "      <th>攻击</th>\n",
       "      <th>防御</th>\n",
       "      <th>法术抗性</th>\n",
       "      <th>阻挡数</th>\n",
       "      <th>再部署时间</th>\n",
       "      <th>初始部署费用</th>\n",
       "      <th>攻击间隔</th>\n",
       "      <th>技能一初始</th>\n",
       "      <th>技能一消耗</th>\n",
       "      <th>技能一持续</th>\n",
       "      <th>技能二初始</th>\n",
       "      <th>技能二消耗</th>\n",
       "      <th>技能二持续</th>\n",
       "    </tr>\n",
       "  </thead>\n",
       "  <tbody>\n",
       "    <tr>\n",
       "      <th>0</th>\n",
       "      <td>NaN</td>\n",
       "      <td>2188.0</td>\n",
       "      <td>519.0</td>\n",
       "      <td>338.0</td>\n",
       "      <td>0.0</td>\n",
       "      <td>3417.0</td>\n",
       "      <td>70</td>\n",
       "      <td>21</td>\n",
       "      <td>4564.0</td>\n",
       "      <td>0</td>\n",
       "      <td>5</td>\n",
       "      <td>0</td>\n",
       "      <td>14</td>\n",
       "      <td>25</td>\n",
       "      <td>0</td>\n",
       "    </tr>\n",
       "  </tbody>\n",
       "</table>\n",
       "</div>"
      ],
      "text/plain": [
       "   代号    生命上限     攻击     防御  法术抗性     阻挡数 再部署时间 初始部署费用    攻击间隔 技能一初始 技能一消耗  \\\n",
       "0 NaN  2188.0  519.0  338.0   0.0  3417.0    70     21  4564.0     0     5   \n",
       "\n",
       "   技能一持续 技能二初始 技能二消耗  技能二持续  \n",
       "0      0    14    25      0  "
      ]
     },
     "metadata": {},
     "execution_count": 239
    }
   ],
   "metadata": {}
  },
  {
   "cell_type": "code",
   "execution_count": 240,
   "source": [
    "df.to_excel('wiki爬取干员信息.xlsx',index=False)"
   ],
   "outputs": [],
   "metadata": {}
  }
 ],
 "metadata": {
  "orig_nbformat": 4,
  "language_info": {
   "name": "python",
   "version": "3.9.5",
   "mimetype": "text/x-python",
   "codemirror_mode": {
    "name": "ipython",
    "version": 3
   },
   "pygments_lexer": "ipython3",
   "nbconvert_exporter": "python",
   "file_extension": ".py"
  },
  "kernelspec": {
   "name": "python3",
   "display_name": "Python 3.9.5 64-bit"
  },
  "interpreter": {
   "hash": "4dd9592285cefc1afd3b616b9588d0b0820138ed4e8f33048cffc875079ebdd5"
  }
 },
 "nbformat": 4,
 "nbformat_minor": 2
}